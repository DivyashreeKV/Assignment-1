{
  "metadata": {
    "kernelspec": {
      "name": "python",
      "display_name": "Python (Pyodide)",
      "language": "python"
    },
    "language_info": {
      "codemirror_mode": {
        "name": "python",
        "version": 3
      },
      "file_extension": ".py",
      "mimetype": "text/x-python",
      "name": "python",
      "nbconvert_exporter": "python",
      "pygments_lexer": "ipython3",
      "version": "3.8"
    }
  },
  "nbformat_minor": 4,
  "nbformat": 4,
  "cells": [
    {
      "cell_type": "code",
      "source": "Q1. Write a program to find all pairs of an integer array whose sum is equal to a given number?",
      "metadata": {
        "trusted": true
      },
      "outputs": [],
      "execution_count": null
    },
    {
      "cell_type": "code",
      "source": "def find_pairs(arr, target_sum):\n    pairs = []\n    seen_numbers = set()\n\n    for num in arr:\n        complement = target_sum - num\n        if complement in seen_numbers:\n            pairs.append((num, complement))\n        seen_numbers.add(num)\n\n    return pairs\n\narr = [1, 2, 3, 4, 5, 6]\ntarget_sum = 7\nresult = find_pairs(arr, target_sum)\nprint(result)\n",
      "metadata": {
        "trusted": true
      },
      "outputs": [
        {
          "name": "stdout",
          "text": "[(4, 3), (5, 2), (6, 1)]\n",
          "output_type": "stream"
        }
      ],
      "execution_count": 4
    },
    {
      "cell_type": "code",
      "source": "Q2. Write a program to reverse an array in place? In place means you cannot create a new array. You have to update the original array.",
      "metadata": {
        "trusted": true
      },
      "outputs": [],
      "execution_count": null
    },
    {
      "cell_type": "code",
      "source": "def reverse_array(arr):\n    left, right = 0, len(arr) - 1\n\n    while left < right:\n        arr[left], arr[right] = arr[right], arr[left]\n        left += 1\n        right -= 1\n\narr = [1, 2, 3, 4, 5]\nreverse_array(arr)\nprint(arr)\n",
      "metadata": {
        "trusted": true
      },
      "outputs": [
        {
          "name": "stdout",
          "text": "[5, 4, 3, 2, 1]\n",
          "output_type": "stream"
        }
      ],
      "execution_count": 3
    },
    {
      "cell_type": "code",
      "source": "Q3. Write a program to check if two strings are a rotation of each other?",
      "metadata": {
        "trusted": true
      },
      "outputs": [],
      "execution_count": null
    },
    {
      "cell_type": "code",
      "source": "def are_rotations(str1, str2):\n    return len(str1) == len(str2) and (str1 + str1).count(str2) > 0\n\nstr1 = \"abcde\"\nstr2 = \"deabc\"\nresult = are_rotations(str1, str2)\nprint(result)\n",
      "metadata": {
        "trusted": true
      },
      "outputs": [
        {
          "name": "stdout",
          "text": "True\n",
          "output_type": "stream"
        }
      ],
      "execution_count": 4
    },
    {
      "cell_type": "code",
      "source": "Q4. Write a program to print the first non-repeated character from a string?",
      "metadata": {
        "trusted": true
      },
      "outputs": [],
      "execution_count": null
    },
    {
      "cell_type": "code",
      "source": "def first_non_repeated_char(s):\n    char_count = {}\n\n    for char in s:\n        char_count[char] = char_count.get(char, 0) + 1\n\n    for char in s:\n        if char_count[char] == 1:\n            return char\n\ns = \"aabbccde\"\nresult = first_non_repeated_char(s)\nprint(result)\n",
      "metadata": {
        "trusted": true
      },
      "outputs": [
        {
          "name": "stdout",
          "text": "d\n",
          "output_type": "stream"
        }
      ],
      "execution_count": 5
    },
    {
      "cell_type": "code",
      "source": "Q5. Read about the Tower of Hanoi algorithm. Write a program to implement it.",
      "metadata": {
        "trusted": true
      },
      "outputs": [],
      "execution_count": null
    },
    {
      "cell_type": "code",
      "source": "def tower_of_hanoi(n, source, target, auxiliary):\n    if n > 0:\n        tower_of_hanoi(n-1, source, auxiliary, target)\n        print(f\"Move disk {n} from {source} to {target}\")\n        tower_of_hanoi(n-1, auxiliary, target, source)\n\ntower_of_hanoi(3, 'A', 'C', 'B')\n",
      "metadata": {
        "trusted": true
      },
      "outputs": [
        {
          "name": "stdout",
          "text": "Move disk 1 from A to C\nMove disk 2 from A to B\nMove disk 1 from C to B\nMove disk 3 from A to C\nMove disk 1 from B to A\nMove disk 2 from B to C\nMove disk 1 from A to C\n",
          "output_type": "stream"
        }
      ],
      "execution_count": 6
    },
    {
      "cell_type": "code",
      "source": "Q6. Read about infix, prefix, and postfix expressions. Write a program to convert postfix to prefix expression.",
      "metadata": {
        "trusted": true
      },
      "outputs": [],
      "execution_count": null
    },
    {
      "cell_type": "code",
      "source": "def postfix_to_prefix(postfix):\n    stack = []\n\n    for char in postfix:\n        if char.isalnum():\n            stack.append(char)\n        else:\n            operand2 = stack.pop()\n            operand1 = stack.pop()\n            stack.append(char + operand1 + operand2)\n\n    return stack[0]\n\npostfix_expr = \"ABC/-AK/L-*\"\nprefix_result = postfix_to_prefix(postfix_expr)\nprint(prefix_result)\n",
      "metadata": {
        "trusted": true
      },
      "outputs": [
        {
          "name": "stdout",
          "text": "*-A/BC-/AKL\n",
          "output_type": "stream"
        }
      ],
      "execution_count": 7
    },
    {
      "cell_type": "code",
      "source": "Q7. Write a program to convert prefix expression to infix expression.",
      "metadata": {
        "trusted": true
      },
      "outputs": [],
      "execution_count": null
    },
    {
      "cell_type": "code",
      "source": "def prefix_to_infix(prefix):\n    stack = []\n\n    for char in reversed(prefix):\n        if char.isalnum():\n            stack.append(char)\n        else:\n            operand1 = stack.pop()\n            operand2 = stack.pop()\n            stack.append(f\"({operand1}{char}{operand2})\")\n\n    return stack[0]\n\nprefix_expr = \"*-A/BC-/AKL\"\ninfix_result = prefix_to_infix(prefix_expr)\nprint(infix_result)\n",
      "metadata": {
        "trusted": true
      },
      "outputs": [
        {
          "name": "stdout",
          "text": "((A-(B/C))*((A/K)-L))\n",
          "output_type": "stream"
        }
      ],
      "execution_count": 8
    },
    {
      "cell_type": "code",
      "source": "Q8. Write a program to check if all the brackets are closed in a given code snippet.",
      "metadata": {
        "trusted": true
      },
      "outputs": [],
      "execution_count": null
    },
    {
      "cell_type": "code",
      "source": "def are_brackets_closed(code):\n    stack = []\n\n    for char in code:\n        if char in \"({[\":\n            stack.append(char)\n        elif char in \")}]\":\n            if not stack or not is_matching(stack.pop(), char):\n                return False\n\n    return not stack\n\ndef is_matching(opening, closing):\n    return (opening == '(' and closing == ')') or \\\n           (opening == '{' and closing == '}') or \\\n           (opening == '[' and closing == ']')\n\ncode_snippet = \"{[a+b]*(c-d)}\"\nresult = are_brackets_closed(code_snippet)\nprint(result)\n",
      "metadata": {
        "trusted": true
      },
      "outputs": [
        {
          "name": "stdout",
          "text": "True\n",
          "output_type": "stream"
        }
      ],
      "execution_count": 9
    },
    {
      "cell_type": "code",
      "source": "Q9. Write a program to reverse a stack.\n\nQ10. Write a program to find the smallest number using a stack.",
      "metadata": {
        "trusted": true
      },
      "outputs": [],
      "execution_count": null
    },
    {
      "cell_type": "code",
      "source": "class Stack:\n    def __init__(self):\n        self.items = []\n\n    def push(self, item):\n        self.items.append(item)\n\n    def pop(self):\n        if not self.is_empty():\n            return self.items.pop()\n\n    def is_empty(self):\n        return len(self.items) == 0\n\n    def reverse_stack(self):\n        if not self.is_empty():\n            temp = self.pop()\n            self.reverse_stack()\n            self.insert_at_bottom(temp)\n\n    def insert_at_bottom(self, item):\n        if self.is_empty():\n            self.push(item)\n        else:\n            temp = self.pop()\n            self.insert_at_bottom(item)\n            self.push(temp)\n\nstack = Stack()\nstack.push(1)\nstack.push(2)\nstack.push(3)\nstack.push(4)\n\nprint(\"Original Stack:\", stack.items)\nstack.reverse_stack()\nprint(\"Reversed Stack:\", stack.items)\n",
      "metadata": {
        "trusted": true
      },
      "outputs": [
        {
          "name": "stdout",
          "text": "Original Stack: [1, 2, 3, 4]\nReversed Stack: [4, 3, 2, 1]\n",
          "output_type": "stream"
        }
      ],
      "execution_count": 10
    },
    {
      "cell_type": "code",
      "source": "Q10. Write a program to find the smallest number using a stack.",
      "metadata": {
        "trusted": true
      },
      "outputs": [],
      "execution_count": null
    },
    {
      "cell_type": "code",
      "source": "class MinStack:\n    def __init__(self):\n        self.stack = []\n        self.min_stack = []\n\n    def push(self, item):\n        self.stack.append(item)\n        if not self.min_stack or item <= self.min_stack[-1]:\n            self.min_stack.append(item)\n\n    def pop(self):\n        if not self.is_empty():\n            popped_item = self.stack.pop()\n            if popped_item == self.min_stack[-1]:\n                self.min_stack.pop()\n            return popped_item\n\n    def get_min(self):\n        if not self.is_empty():\n            return self.min_stack[-1]\n\n    def is_empty(self):\n        return len(self.stack) == 0\n\nmin_stack = MinStack()\nmin_stack.push(3)\nmin_stack.push(5)\nmin_stack.push(2)\nmin_stack.push(1)\n\nprint(\"Current Stack:\", min_stack.stack)\nprint(\"Minimum Element:\", min_stack.get_min())\nmin_stack.pop()\nprint(\"Current Stack:\", min_stack.stack)\nprint(\"Minimum Element:\", min_stack.get_min())\n",
      "metadata": {
        "trusted": true
      },
      "outputs": [
        {
          "name": "stdout",
          "text": "Current Stack: [3, 5, 2, 1]\nMinimum Element: 1\nCurrent Stack: [3, 5, 2]\nMinimum Element: 2\n",
          "output_type": "stream"
        }
      ],
      "execution_count": 11
    },
    {
      "cell_type": "code",
      "source": "",
      "metadata": {
        "trusted": true
      },
      "outputs": [],
      "execution_count": null
    }
  ]
}